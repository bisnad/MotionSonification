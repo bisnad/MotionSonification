{
 "cells": [
  {
   "cell_type": "markdown",
   "id": "5fdfce1e-b7a8-4fff-829d-a9b86f669110",
   "metadata": {},
   "source": [
    "## Audio Autoencoder (RNN Version)"
   ]
  },
  {
   "cell_type": "markdown",
   "id": "5ee34929-09b7-4134-9b3d-6adbcc0c86d8",
   "metadata": {},
   "source": [
    "## Imports"
   ]
  },
  {
   "cell_type": "code",
   "execution_count": 1,
   "id": "5848ca67-5fd9-451c-b69f-dc45b8fd1f53",
   "metadata": {},
   "outputs": [],
   "source": [
    "import os\n",
    "import math\n",
    "import numpy as np\n",
    "from matplotlib import pyplot as plt\n",
    "import threading\n",
    "import queue\n",
    "import re\n",
    "\n",
    "import torch\n",
    "from torch import nn\n",
    "from collections import OrderedDict\n",
    "\n",
    "import torchaudio\n",
    "from torchaudio.functional import highpass_biquad\n",
    "import sounddevice as sd\n",
    "\n",
    "from vocos import Vocos\n",
    "\n",
    "from sklearn.manifold import TSNE\n",
    "from sklearn.neighbors import NearestNeighbors\n",
    "\n",
    "from PyQt5 import QtWidgets, QtCore\n",
    "import pyqtgraph as pg\n",
    "import sys\n",
    "\n",
    "import IPython\n",
    "from IPython.display import display\n",
    "import ipywidgets as widgets"
   ]
  },
  {
   "cell_type": "markdown",
   "id": "384747ea-7ddf-4ca4-95a9-6c21e3d77266",
   "metadata": {},
   "source": [
    "## Settings"
   ]
  },
  {
   "cell_type": "markdown",
   "id": "af12e649-5fed-4f85-8ceb-a74f340fcfd2",
   "metadata": {},
   "source": [
    "## Device Settings"
   ]
  },
  {
   "cell_type": "code",
   "execution_count": 2,
   "id": "b8c210a2-8feb-48ae-b6e9-71cd5beb84c4",
   "metadata": {},
   "outputs": [
    {
     "name": "stdout",
     "output_type": "stream",
     "text": [
      "Using CPU device\n"
     ]
    }
   ],
   "source": [
    "device = 'cuda' if torch.cuda.is_available() else 'cpu'\n",
    "print(f\"Using {device.upper()} device\")"
   ]
  },
  {
   "cell_type": "markdown",
   "id": "50dda1ea-c0df-498c-bd39-0cfd464253d6",
   "metadata": {},
   "source": [
    "## Audio Settings"
   ]
  },
  {
   "cell_type": "code",
   "execution_count": 3,
   "id": "df10138d-9e02-435d-af81-329d144bca8d",
   "metadata": {},
   "outputs": [
    {
     "data": {
      "application/vnd.jupyter.widget-view+json": {
       "model_id": "769adc08187848ffa120f614843e3c39",
       "version_major": 2,
       "version_minor": 0
      },
      "text/plain": [
       "Text(value='data/audio/Take3_RO_37-4-1_HQ_audio_crop_48khz.wav', description='Audio File:', style=TextStyle(de…"
      ]
     },
     "metadata": {},
     "output_type": "display_data"
    },
    {
     "data": {
      "application/vnd.jupyter.widget-view+json": {
       "model_id": "d7e37326757e47c7809b67a6cafbbcf3",
       "version_major": 2,
       "version_minor": 0
      },
      "text/plain": [
       "IntText(value=48000, description='Audio Sample Rate:', style=DescriptionStyle(description_width='initial'))"
      ]
     },
     "metadata": {},
     "output_type": "display_data"
    },
    {
     "data": {
      "application/vnd.jupyter.widget-view+json": {
       "model_id": "393c9f369b0b4bc7baa093858c79ecf6",
       "version_major": 2,
       "version_minor": 0
      },
      "text/plain": [
       "IntText(value=1, description='Audio Channel Count:', style=DescriptionStyle(description_width='initial'))"
      ]
     },
     "metadata": {},
     "output_type": "display_data"
    },
    {
     "data": {
      "application/vnd.jupyter.widget-view+json": {
       "model_id": "9aaae485601a435e99c1787eb57a5a12",
       "version_major": 2,
       "version_minor": 0
      },
      "text/plain": [
       "IntText(value=2048, description='Audio Window Length:', style=DescriptionStyle(description_width='initial'))"
      ]
     },
     "metadata": {},
     "output_type": "display_data"
    },
    {
     "name": "stdout",
     "output_type": "stream",
     "text": [
      "  0 DELL U2413, Core Audio (0 in, 2 out)\n",
      "> 1 MacBook Pro Microphone, Core Audio (1 in, 0 out)\n",
      "< 2 MacBook Pro Speakers, Core Audio (0 in, 2 out)\n",
      "  3 ZoomAudioDevice, Core Audio (2 in, 2 out)\n"
     ]
    },
    {
     "data": {
      "application/vnd.jupyter.widget-view+json": {
       "model_id": "c210fc2eca134a9daf0807f6c0cd9108",
       "version_major": 2,
       "version_minor": 0
      },
      "text/plain": [
       "IntText(value=2, description='Audio Output Device:', style=DescriptionStyle(description_width='initial'))"
      ]
     },
     "metadata": {},
     "output_type": "display_data"
    },
    {
     "data": {
      "application/vnd.jupyter.widget-view+json": {
       "model_id": "577c48cd7c424468855e8cdab4806ee9",
       "version_major": 2,
       "version_minor": 0
      },
      "text/plain": [
       "IntText(value=32, description='Max Audio Queue Length:', style=DescriptionStyle(description_width='initial'))"
      ]
     },
     "metadata": {},
     "output_type": "display_data"
    }
   ],
   "source": [
    "audio_file = \"data/audio/Take3_RO_37-4-1_HQ_audio_crop_48khz.wav\"\n",
    "audio_sample_rate = 48000\n",
    "audio_channel_count = 1\n",
    "audio_window_length = 2048\n",
    "audio_output_device = 2 # windows: 7, macOS: 2\n",
    "max_audio_queue_length = 32\n",
    "\n",
    "audio_file_gui = widgets.Text(value=audio_file, description=\"Audio File:\", style={'description_width': 'initial'}) \n",
    "audio_sample_rate_gui = widgets.IntText(value=audio_sample_rate, description=\"Audio Sample Rate:\", style={'description_width': 'initial'})\n",
    "audio_channel_count_gui = widgets.IntText(value=audio_channel_count, description=\"Audio Channel Count:\", style={'description_width': 'initial'})\n",
    "audio_window_length_gui = widgets.IntText(value=audio_window_length, description=\"Audio Window Length:\", style={'description_width': 'initial'})\n",
    "audio_output_device_gui = widgets.IntText(value=audio_output_device, description=\"Audio Output Device:\", style={'description_width': 'initial'})\n",
    "max_audio_queue_length_gui = widgets.IntText(value=max_audio_queue_length, description=\"Max Audio Queue Length:\", style={'description_width': 'initial'})\n",
    "\n",
    "display(audio_file_gui)\n",
    "display(audio_sample_rate_gui)\n",
    "display(audio_channel_count_gui)\n",
    "display(audio_window_length_gui)\n",
    "print(sd.query_devices())\n",
    "display(audio_output_device_gui)\n",
    "display(max_audio_queue_length_gui)"
   ]
  },
  {
   "cell_type": "code",
   "execution_count": 4,
   "id": "745dbcea-438b-464e-9393-06c5ad018784",
   "metadata": {},
   "outputs": [],
   "source": [
    "audio_file = audio_file_gui.value\n",
    "audio_sample_rate = audio_sample_rate_gui.value\n",
    "audio_channel_count = audio_channel_count_gui.value\n",
    "audio_window_length = audio_window_length_gui.value\n",
    "audio_output_device = audio_output_device_gui.value\n",
    "max_audio_queue_length = max_audio_queue_length_gui.value\n",
    "\n",
    "gen_buffer_size = audio_window_length\n",
    "window_size = gen_buffer_size\n",
    "window_offset = window_size // 2\n",
    "play_buffer_size = window_size * 16\n",
    "playback_latency = 1.0"
   ]
  },
  {
   "cell_type": "markdown",
   "id": "4a5d0f22-a5b2-447d-b631-4ca95bd63a41",
   "metadata": {},
   "source": [
    "## Autoencoder Settings"
   ]
  },
  {
   "cell_type": "code",
   "execution_count": 5,
   "id": "ba8be659-6b91-4d3c-95cf-fa02b9fd4ec7",
   "metadata": {},
   "outputs": [
    {
     "data": {
      "application/vnd.jupyter.widget-view+json": {
       "model_id": "d3268cb3eb774ff9a14f2c9aec063413",
       "version_major": 2,
       "version_minor": 0
      },
      "text/plain": [
       "IntText(value=32, description='Latent Dimension:', style=DescriptionStyle(description_width='initial'))"
      ]
     },
     "metadata": {},
     "output_type": "display_data"
    },
    {
     "data": {
      "application/vnd.jupyter.widget-view+json": {
       "model_id": "3176767646eb4348b4ed38138310c910",
       "version_major": 2,
       "version_minor": 0
      },
      "text/plain": [
       "IntText(value=2, description='LSTM Layer Count:', style=DescriptionStyle(description_width='initial'))"
      ]
     },
     "metadata": {},
     "output_type": "display_data"
    },
    {
     "data": {
      "application/vnd.jupyter.widget-view+json": {
       "model_id": "d7875cf708dd472d978b91dd250318fd",
       "version_major": 2,
       "version_minor": 0
      },
      "text/plain": [
       "IntText(value=512, description='LSTM Layer Size:', style=DescriptionStyle(description_width='initial'))"
      ]
     },
     "metadata": {},
     "output_type": "display_data"
    },
    {
     "data": {
      "application/vnd.jupyter.widget-view+json": {
       "model_id": "c4c662c1284946d9ab22a796461fead5",
       "version_major": 2,
       "version_minor": 0
      },
      "text/plain": [
       "Textarea(value='512', description='Dense Layer Sizes:', layout=Layout(width='50%'), placeholder='Enter dense l…"
      ]
     },
     "metadata": {},
     "output_type": "display_data"
    },
    {
     "data": {
      "application/vnd.jupyter.widget-view+json": {
       "model_id": "facde56684f2401fa7806d147d4826e2",
       "version_major": 2,
       "version_minor": 0
      },
      "text/plain": [
       "Text(value='../Training/results/weights/encoder_weights_epoch_400', description='Encoder Weights File:', style…"
      ]
     },
     "metadata": {},
     "output_type": "display_data"
    },
    {
     "data": {
      "application/vnd.jupyter.widget-view+json": {
       "model_id": "c40b3884abfe4871ba9be12f1908293d",
       "version_major": 2,
       "version_minor": 0
      },
      "text/plain": [
       "Text(value='../Training/results/weights/decoder_weights_epoch_400', description='Decoder Weights File:', style…"
      ]
     },
     "metadata": {},
     "output_type": "display_data"
    }
   ],
   "source": [
    "latent_dim = 32\n",
    "ae_rnn_layer_count = 2\n",
    "ae_rnn_layer_size = 512\n",
    "ae_dense_layer_sizes = [ 512 ]\n",
    "ae_encoder_weights_file = \"../Training/results/weights/encoder_weights_epoch_400\"\n",
    "ae_decoder_weights_file = \"../Training/results/weights/decoder_weights_epoch_400\"\n",
    "\n",
    "latent_dim_gui = widgets.IntText(value=latent_dim, description=\"Latent Dimension:\", style={'description_width': 'initial'})\n",
    "ae_rnn_layer_count_gui = widgets.IntText(value=ae_rnn_layer_count, description=\"LSTM Layer Count:\", style={'description_width': 'initial'})\n",
    "ae_rnn_layer_size_gui = widgets.IntText(value=ae_rnn_layer_size, description=\"LSTM Layer Size:\", style={'description_width': 'initial'})\n",
    "\n",
    "ae_dense_layer_sizes_gui = widgets.Textarea(\n",
    "    value=','.join(list(map(str, ae_dense_layer_sizes))),\n",
    "    placeholder='Enter dense layer sizes separated by commas',\n",
    "    description='Dense Layer Sizes:',\n",
    "    layout=widgets.Layout(width='50%'),\n",
    "    style={'description_width': 'initial'}\n",
    ")\n",
    "\n",
    "ae_encoder_weights_file_gui = widgets.Text(value=ae_encoder_weights_file, description=\"Encoder Weights File:\", style={'description_width': 'initial'}) \n",
    "ae_decoder_weights_file_gui = widgets.Text(value=ae_decoder_weights_file, description=\"Decoder Weights File:\", style={'description_width': 'initial'}) \n",
    "\n",
    "display(latent_dim_gui)\n",
    "display(ae_rnn_layer_count_gui)\n",
    "display(ae_rnn_layer_size_gui)\n",
    "display(ae_dense_layer_sizes_gui)\n",
    "display(ae_encoder_weights_file_gui)\n",
    "display(ae_decoder_weights_file_gui)"
   ]
  },
  {
   "cell_type": "code",
   "execution_count": 6,
   "id": "22c69571-c0f1-4c6a-8416-97f00b111fb6",
   "metadata": {},
   "outputs": [],
   "source": [
    "latent_dim = latent_dim_gui.value\n",
    "ae_rnn_layer_count = ae_rnn_layer_count_gui.value\n",
    "ae_rnn_layer_size = ae_rnn_layer_size_gui.value\n",
    "ae_dense_layer_sizes  = [int(s) for s in re.split(r\"\\s*,\\s*\", ae_dense_layer_sizes_gui.value) if s.strip()]\n",
    "ae_encoder_weights_file = ae_encoder_weights_file_gui.value\n",
    "ae_decoder_weights_file = ae_decoder_weights_file_gui.value"
   ]
  },
  {
   "cell_type": "markdown",
   "id": "c4503d54-0c14-4685-8306-8f417b25ff7d",
   "metadata": {},
   "source": [
    "## Load Audio"
   ]
  },
  {
   "cell_type": "code",
   "execution_count": 7,
   "id": "1a5b7a29-0dfd-4ea0-8693-fd2596eaa7ba",
   "metadata": {},
   "outputs": [],
   "source": [
    "assert os.path.exists(audio_file), f\"Audio file not found: {audio_file}\"\n",
    "\n",
    "audio_waveform, _ = torchaudio.load(audio_file)\n",
    "audio_source_samples = audio_waveform[0].to(device)\n",
    "audio_source_frame_index = 0\n",
    "hann_window = torch.from_numpy(np.hanning(window_size)).float().to(device) # Move to device once"
   ]
  },
  {
   "cell_type": "markdown",
   "id": "2dd0e336-23c7-4fb2-b03d-03c5eae9aeb6",
   "metadata": {},
   "source": [
    "## Audio Excerpt Generation for 2D Mapping"
   ]
  },
  {
   "cell_type": "code",
   "execution_count": 8,
   "id": "f92db718-8a89-4b79-a68c-334c4796c95e",
   "metadata": {},
   "outputs": [
    {
     "data": {
      "application/vnd.jupyter.widget-view+json": {
       "model_id": "50c93b117ebd40c19a11b9801792a9ac",
       "version_major": 2,
       "version_minor": 0
      },
      "text/plain": [
       "IntText(value=10000, description='Audio Excerpt Frame Offset:', style=DescriptionStyle(description_width='init…"
      ]
     },
     "metadata": {},
     "output_type": "display_data"
    }
   ],
   "source": [
    "audio_excerpt_frame_offset = 10000\n",
    "\n",
    "audio_excerpt_frame_offset_gui = widgets.IntText(value=audio_excerpt_frame_offset, description=\"Audio Excerpt Frame Offset:\", style={'description_width': 'initial'})\n",
    "\n",
    "display(audio_excerpt_frame_offset_gui)"
   ]
  },
  {
   "cell_type": "code",
   "execution_count": 9,
   "id": "a5ab8939-3c92-4111-812f-60e2bc7a1b8b",
   "metadata": {},
   "outputs": [],
   "source": [
    "audio_excerpt_frame_offset = audio_excerpt_frame_offset_gui.value\n",
    "\n",
    "audio_excerpt_start_frame = 0\n",
    "audio_excerpt_end_frame = audio_waveform.shape[1]\n",
    "audio_excerpts = []\n",
    "for fI in range(audio_excerpt_start_frame, audio_excerpt_end_frame - gen_buffer_size, audio_excerpt_frame_offset):\n",
    "    audio_excerpt = audio_waveform[0, fI:fI + gen_buffer_size]\n",
    "    audio_excerpts.append(audio_excerpt)\n",
    "audio_excerpts = torch.stack(audio_excerpts, dim=0)"
   ]
  },
  {
   "cell_type": "markdown",
   "id": "10f62b36-9e55-487d-9c14-4b37cd12da86",
   "metadata": {},
   "source": [
    "## Create Models"
   ]
  },
  {
   "cell_type": "markdown",
   "id": "bd51382e-a437-47d6-82d2-20510b1bb170",
   "metadata": {},
   "source": [
    "## Create Vocoder Model"
   ]
  },
  {
   "cell_type": "code",
   "execution_count": 10,
   "id": "0b41c1f8-a8f9-4d88-a790-b9ff0b8d6d11",
   "metadata": {},
   "outputs": [
    {
     "data": {
      "text/plain": [
       "Vocos(\n",
       "  (feature_extractor): MelSpectrogramFeatures(\n",
       "    (mel_spec): MelSpectrogram(\n",
       "      (spectrogram): Spectrogram()\n",
       "      (mel_scale): MelScale()\n",
       "    )\n",
       "  )\n",
       "  (backbone): VocosBackbone(\n",
       "    (embed): Conv1d(128, 1024, kernel_size=(7,), stride=(1,), padding=(3,))\n",
       "    (norm): LayerNorm((1024,), eps=1e-06, elementwise_affine=True)\n",
       "    (convnext): ModuleList(\n",
       "      (0-7): 8 x ConvNeXtBlock(\n",
       "        (dwconv): Conv1d(1024, 1024, kernel_size=(7,), stride=(1,), padding=(3,), groups=1024)\n",
       "        (norm): LayerNorm((1024,), eps=1e-06, elementwise_affine=True)\n",
       "        (pwconv1): Linear(in_features=1024, out_features=2048, bias=True)\n",
       "        (act): GELU(approximate='none')\n",
       "        (pwconv2): Linear(in_features=2048, out_features=1024, bias=True)\n",
       "      )\n",
       "    )\n",
       "    (final_layer_norm): LayerNorm((1024,), eps=1e-06, elementwise_affine=True)\n",
       "  )\n",
       "  (head): ISTFTHead(\n",
       "    (out): Linear(in_features=1024, out_features=2050, bias=True)\n",
       "    (istft): ISTFT()\n",
       "  )\n",
       ")"
      ]
     },
     "execution_count": 10,
     "metadata": {},
     "output_type": "execute_result"
    }
   ],
   "source": [
    "vocos = Vocos.from_pretrained(\"kittn/vocos-mel-48khz-alpha1\").to(device)\n",
    "vocos.eval()"
   ]
  },
  {
   "cell_type": "markdown",
   "id": "5eb3cea7-5b44-49b0-a2cd-c35d29ed670d",
   "metadata": {},
   "source": [
    "## Determine Number of Mel Filters and Mel Spectra"
   ]
  },
  {
   "cell_type": "code",
   "execution_count": 11,
   "id": "ce26527f-e2c2-4f14-a1a1-09433b0bd0ac",
   "metadata": {},
   "outputs": [],
   "source": [
    "with torch.no_grad():\n",
    "    dummy_features = vocos.feature_extractor(torch.rand(size=(1, gen_buffer_size), device=device))\n",
    "    mel_count = dummy_features.shape[-1]\n",
    "    mel_filters = dummy_features.shape[1]"
   ]
  },
  {
   "cell_type": "markdown",
   "id": "f1838208-98a4-4db5-b8f2-96ce145a73fd",
   "metadata": {},
   "source": [
    "## Create Encoder"
   ]
  },
  {
   "cell_type": "code",
   "execution_count": 12,
   "id": "433f26de-7720-42a1-bb64-cdc665a6c247",
   "metadata": {},
   "outputs": [
    {
     "data": {
      "text/plain": [
       "Encoder(\n",
       "  (rnn_layers): Sequential(\n",
       "    (encoder_rnn_0): LSTM(128, 512, num_layers=2, batch_first=True)\n",
       "  )\n",
       "  (dense_layers): Sequential(\n",
       "    (encoder_dense_0): Linear(in_features=512, out_features=512, bias=True)\n",
       "    (encoder_dense_relu_0): ReLU()\n",
       "  )\n",
       "  (fc_mu): Linear(in_features=512, out_features=32, bias=True)\n",
       "  (fc_std): Linear(in_features=512, out_features=32, bias=True)\n",
       ")"
      ]
     },
     "execution_count": 12,
     "metadata": {},
     "output_type": "execute_result"
    }
   ],
   "source": [
    "class Encoder(nn.Module):\n",
    "    def __init__(self, sequence_length, mel_filter_count, latent_dim, rnn_layer_count, rnn_layer_size, dense_layer_sizes):\n",
    "        super(Encoder, self).__init__()\n",
    "        \n",
    "        self.sequence_length = sequence_length\n",
    "        self.mel_filter_count = mel_filter_count\n",
    "        self.latent_dim = latent_dim\n",
    "        self.rnn_layer_count = rnn_layer_count\n",
    "        self.rnn_layer_size = rnn_layer_size \n",
    "        self.dense_layer_sizes = dense_layer_sizes\n",
    "    \n",
    "        rnn_layers = []\n",
    "        rnn_layers.append((\"encoder_rnn_0\", nn.LSTM(self.mel_filter_count, self.rnn_layer_size, self.rnn_layer_count, batch_first=True)))\n",
    "        \n",
    "        self.rnn_layers = nn.Sequential(OrderedDict(rnn_layers))\n",
    " \n",
    "        dense_layers = []\n",
    "        \n",
    "        dense_layers.append((\"encoder_dense_0\", nn.Linear(self.rnn_layer_size, self.dense_layer_sizes[0])))\n",
    "        dense_layers.append((\"encoder_dense_relu_0\", nn.ReLU()))\n",
    "        \n",
    "        dense_layer_count = len(self.dense_layer_sizes)\n",
    "        for layer_index in range(1, dense_layer_count):\n",
    "            dense_layers.append((\"encoder_dense_{}\".format(layer_index), nn.Linear(self.dense_layer_sizes[layer_index-1], self.dense_layer_sizes[layer_index])))\n",
    "            dense_layers.append((\"encoder_dense_relu_{}\".format(layer_index), nn.ReLU()))\n",
    "        \n",
    "        self.dense_layers = nn.Sequential(OrderedDict(dense_layers))\n",
    "        self.fc_mu = nn.Linear(self.dense_layer_sizes[-1], self.latent_dim)\n",
    "        self.fc_std = nn.Linear(self.dense_layer_sizes[-1], self.latent_dim)\n",
    "        \n",
    "    def forward(self, x):\n",
    "\n",
    "        x, (_, _) = self.rnn_layers(x)\n",
    "        x = x[:, -1, :] # only last time step \n",
    "        x = self.dense_layers(x)\n",
    "        mu = self.fc_mu(x)\n",
    "        std = self.fc_std(x)\n",
    "  \n",
    "        return mu, std\n",
    "\n",
    "    @staticmethod\n",
    "    def reparameterize(mu, std):\n",
    "        z = mu + std*torch.randn_like(std)\n",
    "        return z\n",
    "\n",
    "# ==== Instantiate and load weights ====\n",
    "encoder = Encoder(mel_count, mel_filters, latent_dim, ae_rnn_layer_count, ae_rnn_layer_size, ae_dense_layer_sizes).to(device)\n",
    "encoder.load_state_dict(torch.load(ae_encoder_weights_file, map_location=device))\n",
    "encoder.eval()"
   ]
  },
  {
   "cell_type": "markdown",
   "id": "18aa4739-f038-41c5-ac3d-17d37c64d0ac",
   "metadata": {},
   "source": [
    "## Create Decoder"
   ]
  },
  {
   "cell_type": "code",
   "execution_count": 13,
   "id": "fc7236f2-1366-434c-97fa-e9e05779ca48",
   "metadata": {},
   "outputs": [
    {
     "data": {
      "text/plain": [
       "Decoder(\n",
       "  (dense_layers): Sequential(\n",
       "    (decoder_dense_0): Linear(in_features=32, out_features=512, bias=True)\n",
       "    (decoder_relu_0): ReLU()\n",
       "  )\n",
       "  (rnn_layers): Sequential(\n",
       "    (decoder_rnn_0): LSTM(512, 512, num_layers=2, batch_first=True)\n",
       "  )\n",
       "  (final_layers): Sequential(\n",
       "    (decoder_dense_1): Linear(in_features=512, out_features=128, bias=True)\n",
       "  )\n",
       ")"
      ]
     },
     "execution_count": 13,
     "metadata": {},
     "output_type": "execute_result"
    }
   ],
   "source": [
    "class Decoder(nn.Module):\n",
    "    def __init__(self, sequence_length, mel_filter_count, latent_dim, rnn_layer_count, rnn_layer_size, dense_layer_sizes):\n",
    "        super(Decoder, self).__init__()\n",
    "        \n",
    "        self.sequence_length = sequence_length\n",
    "        self.mel_filter_count = mel_filter_count\n",
    "        self.latent_dim = latent_dim\n",
    "        self.rnn_layer_size = rnn_layer_size\n",
    "        self.rnn_layer_count = rnn_layer_count\n",
    "        self.dense_layer_sizes = dense_layer_sizes\n",
    "\n",
    "        # create dense layers\n",
    "        dense_layers = []\n",
    "        \n",
    "        dense_layers.append((\"decoder_dense_0\", nn.Linear(latent_dim, self.dense_layer_sizes[0])))\n",
    "        dense_layers.append((\"decoder_relu_0\", nn.ReLU()))\n",
    "\n",
    "        dense_layer_count = len(self.dense_layer_sizes)\n",
    "        for layer_index in range(1, dense_layer_count):\n",
    "            dense_layers.append((\"decoder_dense_{}\".format(layer_index), nn.Linear(self.dense_layer_sizes[layer_index-1], self.dense_layer_sizes[layer_index])))\n",
    "            dense_layers.append((\"decoder_dense_relu_{}\".format(layer_index), nn.ReLU()))\n",
    " \n",
    "        self.dense_layers = nn.Sequential(OrderedDict(dense_layers))\n",
    "        \n",
    "        # create rnn layers\n",
    "        rnn_layers = []\n",
    "\n",
    "        rnn_layers.append((\"decoder_rnn_0\", nn.LSTM(self.dense_layer_sizes[-1], self.rnn_layer_size, self.rnn_layer_count, batch_first=True)))\n",
    "        \n",
    "        self.rnn_layers = nn.Sequential(OrderedDict(rnn_layers))\n",
    "        \n",
    "        # final output dense layer\n",
    "        final_layers = []\n",
    "        \n",
    "        final_layers.append((\"decoder_dense_{}\".format(dense_layer_count), nn.Linear(self.rnn_layer_size, self.mel_filter_count)))\n",
    "        \n",
    "        self.final_layers = nn.Sequential(OrderedDict(final_layers))\n",
    "        \n",
    "    def forward(self, x):\n",
    "        # dense layers\n",
    "        x = self.dense_layers(x)\n",
    "        \n",
    "        # repeat vector\n",
    "        x = torch.unsqueeze(x, dim=1)\n",
    "        x = x.repeat(1, self.sequence_length, 1)\n",
    "        \n",
    "        # rnn layers\n",
    "        x, (_, _) = self.rnn_layers(x)\n",
    "\n",
    "        # final time distributed dense layer\n",
    "        x_reshaped = x.contiguous().view(-1, self.rnn_layer_size)  # (batch_size * sequence, input_size)\n",
    "        yhat = self.final_layers(x_reshaped)\n",
    "        yhat = yhat.contiguous().view(-1, self.sequence_length, self.mel_filter_count)\n",
    "\n",
    "        return yhat\n",
    "\n",
    "# ==== Instantiate and load weights ====\n",
    "decoder = Decoder(mel_count, mel_filters, latent_dim, ae_rnn_layer_count, ae_rnn_layer_size, list(reversed(ae_dense_layer_sizes))).to(device)\n",
    "decoder.load_state_dict(torch.load(ae_decoder_weights_file, map_location=device))\n",
    "decoder.eval()"
   ]
  },
  {
   "cell_type": "markdown",
   "id": "42d50076-a0d3-4bd9-8511-fbff4ecad306",
   "metadata": {},
   "source": [
    "## Generate latent encodings and 2D projections"
   ]
  },
  {
   "cell_type": "code",
   "execution_count": 14,
   "id": "22cd020f-8676-4bd6-b4fc-5237368d1918",
   "metadata": {},
   "outputs": [
    {
     "data": {
      "application/vnd.jupyter.widget-view+json": {
       "model_id": "c610c163a5964cb996f47aa43e190e85",
       "version_major": 2,
       "version_minor": 0
      },
      "text/plain": [
       "IntText(value=32, description='Batch Size:', style=DescriptionStyle(description_width='initial'))"
      ]
     },
     "metadata": {},
     "output_type": "display_data"
    }
   ],
   "source": [
    "batch_size = 32\n",
    "\n",
    "batch_size_gui = widgets.IntText(value=batch_size, description=\"Batch Size:\", style={'description_width': 'initial'})\n",
    "\n",
    "display(batch_size_gui)"
   ]
  },
  {
   "cell_type": "code",
   "execution_count": 15,
   "id": "e9f8b008-c0d4-48c3-a69b-5a75598b13d1",
   "metadata": {},
   "outputs": [
    {
     "name": "stdout",
     "output_type": "stream",
     "text": [
      "[t-SNE] Computing 91 nearest neighbors...\n",
      "[t-SNE] Indexed 1184 samples in 0.000s...\n",
      "[t-SNE] Computed neighbors for 1184 samples in 0.071s...\n",
      "[t-SNE] Computed conditional probabilities for sample 1000 / 1184\n",
      "[t-SNE] Computed conditional probabilities for sample 1184 / 1184\n",
      "[t-SNE] Mean sigma: 1.786013\n",
      "[t-SNE] KL divergence after 250 iterations with early exaggeration: 71.103439\n",
      "[t-SNE] KL divergence after 5000 iterations: 1.600708\n"
     ]
    }
   ],
   "source": [
    "batch_size = batch_size_gui.value\n",
    "\n",
    "with torch.no_grad():\n",
    "    audio_encodings = []\n",
    "    for eI in range(0, audio_excerpts.shape[0] - batch_size, batch_size):\n",
    "        batch = audio_excerpts[eI:eI+batch_size].to(device)\n",
    "        mels = vocos.feature_extractor(batch)\n",
    "        audio_encoder_in = mels.permute((0, 2, 1))\n",
    "        mu, std = encoder(audio_encoder_in)\n",
    "        std = torch.nn.functional.softplus(std) + 1e-6\n",
    "        encoded_batch = Encoder.reparameterize(mu, std).detach().cpu()\n",
    "        audio_encodings.append(encoded_batch)\n",
    "    audio_encodings = torch.cat(audio_encodings, dim=0).numpy()\n",
    "tsne = TSNE(n_components=2, max_iter=5000, verbose=1)\n",
    "Z_tsne = tsne.fit_transform(audio_encodings)"
   ]
  },
  {
   "cell_type": "markdown",
   "id": "0b07bf3e-b325-420f-90e4-d855a001c593",
   "metadata": {},
   "source": [
    "## Display 2D Projection"
   ]
  },
  {
   "cell_type": "code",
   "execution_count": 16,
   "id": "cdebdda2-4e78-47b4-9f38-89d5be3a6698",
   "metadata": {},
   "outputs": [
    {
     "data": {
      "text/plain": [
       "<matplotlib.collections.PathCollection at 0x185ef4070>"
      ]
     },
     "execution_count": 16,
     "metadata": {},
     "output_type": "execute_result"
    },
    {
     "data": {
      "text/plain": [
       "<Figure size 640x480 with 0 Axes>"
      ]
     },
     "metadata": {},
     "output_type": "display_data"
    },
    {
     "data": {
      "image/png": "[encoded data removed]",
      "text/plain": [
       "<Figure size 640x480 with 1 Axes>"
      ]
     },
     "metadata": {},
     "output_type": "display_data"
    }
   ],
   "source": [
    "Z_tsne_x = Z_tsne[:,0]\n",
    "Z_tsne_y = Z_tsne[:,1]\n",
    "\n",
    "plt.figure()\n",
    "fig, ax = plt.subplots()\n",
    "ax.scatter(Z_tsne_x, Z_tsne_y, s=0.1, c=\"grey\", alpha=1.0)"
   ]
  },
  {
   "cell_type": "markdown",
   "id": "62cd49f6-a9ec-4b98-b011-a006841a346c",
   "metadata": {},
   "source": [
    "## K-Nearest-Neighbors Search based on Mouse Clicks"
   ]
  },
  {
   "cell_type": "code",
   "execution_count": 17,
   "id": "e35c07eb-a5af-464b-bc7b-1d010e4e6c7b",
   "metadata": {},
   "outputs": [
    {
     "data": {
      "application/vnd.jupyter.widget-view+json": {
       "model_id": "bb72385eca194b588fc4f9352617b309",
       "version_major": 2,
       "version_minor": 0
      },
      "text/plain": [
       "IntText(value=4, description='Neighbour Count:', style=DescriptionStyle(description_width='initial'))"
      ]
     },
     "metadata": {},
     "output_type": "display_data"
    }
   ],
   "source": [
    "n_neighbors = 4\n",
    "\n",
    "n_neighbors_gui = widgets.IntText(value=n_neighbors, description=\"Neighbour Count:\", style={'description_width': 'initial'})\n",
    "\n",
    "display(n_neighbors_gui)"
   ]
  },
  {
   "cell_type": "code",
   "execution_count": 18,
   "id": "cf09171f-0170-4805-aa14-e0ee605226f6",
   "metadata": {},
   "outputs": [],
   "source": [
    "n_neighbors = n_neighbors_gui.value\n",
    "\n",
    "knn = NearestNeighbors(n_neighbors=n_neighbors, algorithm='auto', metric='euclidean')\n",
    "knn.fit(Z_tsne)\n",
    "\n",
    "def calc_distance_based_averaged_encoding(point2D):\n",
    "    \"\"\"Returns distance-weighted averaged encoding for a given 2D point.\"\"\"\n",
    "    _, indices = knn.kneighbors(point2D)\n",
    "    nearest_positions = Z_tsne[indices[0]]\n",
    "    nearest_encodings = audio_encodings[indices[0]]\n",
    "    nearest_2D_distances = np.linalg.norm(nearest_positions - point2D, axis=1)\n",
    "    max_2D_distance = np.max(nearest_2D_distances)\n",
    "    norm_nearest_2D_distances = nearest_2D_distances / max_2D_distance\n",
    "    weights = (1.0 - norm_nearest_2D_distances)\n",
    "    return np.average(nearest_encodings, weights=weights, axis=0)"
   ]
  },
  {
   "cell_type": "markdown",
   "id": "8a236cbb-57ba-49b2-9333-deefcdcf08a5",
   "metadata": {},
   "source": [
    "## Real-Time Audio Callback Functions"
   ]
  },
  {
   "cell_type": "code",
   "execution_count": 19,
   "id": "0ece5169-810a-418a-bf1b-c318ab649154",
   "metadata": {},
   "outputs": [],
   "source": [
    "inter_audio_encodings = []\n",
    "inter_audio_encoding_index = 0\n",
    "\n",
    "@torch.no_grad()\n",
    "def encode_audio(waveform):\n",
    "    waveform = waveform.unsqueeze(0).to(device)\n",
    "    mels = vocos.feature_extractor(waveform)\n",
    "    audio_encoder_in = mels.permute((0, 2, 1))\n",
    "    mu, std = encoder(audio_encoder_in)\n",
    "    std = torch.nn.functional.softplus(std) + 1e-6\n",
    "    return Encoder.reparameterize(mu, std)\n",
    "\n",
    "@torch.no_grad()\n",
    "def decode_audio(latent):\n",
    "    mel_pred = decoder(latent).squeeze(1)\n",
    "    mel_pred = mel_pred.permute((0, 2, 1))\n",
    "    mel_pred = mel_pred.squeeze(1)\n",
    "    waveform = vocos.decode(mel_pred).reshape(1, -1)\n",
    "    return waveform\n",
    "\n",
    "@torch.no_grad()\n",
    "def synthesize_audio():\n",
    "    \"\"\"Decode the next latent encoding from the current interactive list.\"\"\"\n",
    "    global inter_audio_encoding_index\n",
    "    if len(inter_audio_encodings) == 0:\n",
    "        return torch.zeros(gen_buffer_size)\n",
    "    inter_audio_encoding_index += 1\n",
    "    if inter_audio_encoding_index >= len(inter_audio_encodings):\n",
    "        inter_audio_encoding_index = 0\n",
    "    latent = inter_audio_encodings[inter_audio_encoding_index]\n",
    "    gen_waveform = decode_audio(latent).reshape(-1)\n",
    "    return gen_waveform"
   ]
  },
  {
   "cell_type": "markdown",
   "id": "5db698f9-af3d-4feb-931a-d918639bd645",
   "metadata": {},
   "source": [
    "## Audio Threading"
   ]
  },
  {
   "cell_type": "code",
   "execution_count": 20,
   "id": "e10fb3a2-3ccc-4d2e-922f-2910c976fe26",
   "metadata": {},
   "outputs": [],
   "source": [
    "audio_queue = queue.Queue(maxsize=max_audio_queue_length)\n",
    "export_audio_buffer = []\n",
    "last_chunk = np.zeros(window_size, dtype=np.float32)\n",
    "\n",
    "def producer_thread():\n",
    "    \"\"\"Continuously generates audio and fills the output buffer queue.\"\"\"\n",
    "    while True:\n",
    "        if not audio_queue.full():\n",
    "            gen_waveform = synthesize_audio()\n",
    "            audio_queue.put(gen_waveform.cpu().numpy())\n",
    "        else:\n",
    "            sd.sleep(10)\n",
    "\n",
    "def audio_callback(out_data, frames, time_info, status):\n",
    "    \"\"\"sounddevice stream callback function.\"\"\"\n",
    "    global last_chunk\n",
    "    output = np.zeros((frames, audio_channel_count), dtype=np.float32)\n",
    "    cursor = 0\n",
    "    overlap_len = window_size // 2\n",
    "    output[cursor:cursor+overlap_len, 0] += last_chunk[overlap_len:]\n",
    "    samples_needed = frames\n",
    "    while samples_needed > 0:\n",
    "        try:\n",
    "            chunk = audio_queue.get_nowait()\n",
    "            chunk = (chunk * hann_window.cpu().numpy())\n",
    "        except queue.Empty:\n",
    "            chunk = np.zeros(window_size, dtype=np.float32)\n",
    "        chunk_copy_size = output[cursor:cursor+window_size, 0].shape[0]\n",
    "        output[cursor:cursor+chunk_copy_size, 0] += chunk[:chunk_copy_size]\n",
    "        cursor += window_size // 2\n",
    "        samples_needed = frames - cursor\n",
    "        last_chunk[:] = chunk[:]\n",
    "    out_data[:] = output\n",
    "\n",
    "def run_audio_stream():\n",
    "    \"\"\"Main thread for launching audio producer and output stream.\"\"\"\n",
    "    threading.Thread(target=producer_thread, daemon=True).start()\n",
    "    sd.sleep(2000)\n",
    "    with sd.OutputStream(\n",
    "        samplerate=audio_sample_rate,\n",
    "        device=audio_output_device,\n",
    "        channels=audio_channel_count,\n",
    "        callback=audio_callback,\n",
    "        blocksize=play_buffer_size,\n",
    "        latency=playback_latency\n",
    "    ):\n",
    "        print(\"Streaming audio with FIFO queue... press Ctrl+C to stop.\")\n",
    "        try:\n",
    "            while True:\n",
    "                sd.sleep(1000)\n",
    "        except KeyboardInterrupt:\n",
    "            print(\"\\nStopped.\")"
   ]
  },
  {
   "cell_type": "markdown",
   "id": "2b39cd20-62d3-49d3-a197-55108412cf37",
   "metadata": {},
   "source": [
    "## Scatter Plot Application"
   ]
  },
  {
   "cell_type": "code",
   "execution_count": 21,
   "id": "2c14df2a-5aac-4dc6-8546-1a43bb1d8cad",
   "metadata": {},
   "outputs": [],
   "source": [
    "class ScatterPlotApp(QtWidgets.QMainWindow):\n",
    "    \"\"\"\n",
    "    Interactive scatter plot GUI for latent encodings.\n",
    "    - Left button press/drag: Add points and encodings.\n",
    "    - Right button press/drag: Remove points and corresponding encodings near cursor.\n",
    "    - Middle button: pan plot.\n",
    "    - 'C' key: clear all points/encodings.\n",
    "    \"\"\"\n",
    "    def __init__(self, points2D, inter_audio_encodings):\n",
    "        super().__init__()\n",
    "        self.setWindowTitle(\"2D Scatter Plot with Click and Drag\")\n",
    "        # Container and layout for pyqtgraph widget\n",
    "        container_widget = QtWidgets.QWidget()\n",
    "        layout = QtWidgets.QVBoxLayout(container_widget)\n",
    "        self.graph_widget = pg.PlotWidget()\n",
    "        layout.addWidget(self.graph_widget)\n",
    "        self.setCentralWidget(container_widget)\n",
    "\n",
    "        # Main scatter item (fixed background points)\n",
    "        self.scatter = pg.ScatterPlotItem(\n",
    "            x=points2D[:, 0],\n",
    "            y=points2D[:, 1],\n",
    "            pen=pg.mkPen(None),\n",
    "            brush=pg.mkBrush(100, 100, 255, 120),\n",
    "            size=10\n",
    "        )\n",
    "        self.graph_widget.addItem(self.scatter)\n",
    "\n",
    "        # Interactive points and encodings (red points are user-selected)\n",
    "        self.click_points = []\n",
    "        self.click_scatter = pg.ScatterPlotItem(size=12, brush=pg.mkBrush(255, 0, 0, 200))\n",
    "        self.graph_widget.addItem(self.click_scatter)\n",
    "        \n",
    "        # Audio playback point\n",
    "        self.play_point = []\n",
    "        self.play_scatter = pg.ScatterPlotItem(size=12, brush=pg.mkBrush(0, 255, 0, 200))\n",
    "        self.graph_widget.addItem(self.play_scatter)\n",
    "\n",
    "        # Interaction state\n",
    "        self.left_button_pressed = False\n",
    "        self.middle_button_pressed = False\n",
    "        self.right_button_pressed = False\n",
    "        self.last_mouse_pos = None\n",
    "\n",
    "        # Timer for continuous add (while dragging left button)\n",
    "        self.timer = QtCore.QTimer()\n",
    "        self.timer.setInterval(100)  # ms\n",
    "        self.timer.timeout.connect(self.continuous_add_point)\n",
    "        \n",
    "        # Timer for updating play point\n",
    "        self.playpoint_timer = QtCore.QTimer()\n",
    "        self.playpoint_timer.setInterval(25)  # ms\n",
    "        self.playpoint_timer.timeout.connect(self.update_play_point)\n",
    "        self.playpoint_timer.start()\n",
    "\n",
    "        # Register event filter for mouse events\n",
    "        self.graph_widget.scene().installEventFilter(self)\n",
    "        self.click_encodings = inter_audio_encodings\n",
    "\n",
    "    def addInteractiveEncoding(self, mouse_point):\n",
    "        \"\"\"Add an encoding for the clicked position.\"\"\"\n",
    "        encoding = calc_distance_based_averaged_encoding(np.array([[mouse_point.x(), mouse_point.y()]]))\n",
    "        encoding = torch.from_numpy(encoding).unsqueeze(0).to(torch.float32).to(device)\n",
    "        self.click_encodings.append(encoding)\n",
    "\n",
    "    def removeInteractiveEncodingNear(self, mouse_point, radius=0.5):\n",
    "        \"\"\"Remove points and encodings within a radius of the mouse cursor.\"\"\"\n",
    "        to_remove_indices = []\n",
    "        mp_x, mp_y = mouse_point.x(), mouse_point.y()\n",
    "        for i, p in enumerate(self.click_points):\n",
    "            dx = p['pos'][0] - mp_x\n",
    "            dy = p['pos'][1] - mp_y\n",
    "            dist = (dx*dx + dy*dy)**0.5\n",
    "            if dist < radius:\n",
    "                to_remove_indices.append(i)\n",
    "        # Remove from lists in reverse order for safety\n",
    "        for idx in reversed(to_remove_indices):\n",
    "            self.click_points.pop(idx)\n",
    "            self.click_encodings.pop(idx)\n",
    "        # Update plot\n",
    "        self.click_scatter.setData(\n",
    "            [p['pos'][0] for p in self.click_points],\n",
    "            [p['pos'][1] for p in self.click_points]\n",
    "        )\n",
    "\n",
    "    def clearInteractiveEncodings(self):\n",
    "        \"\"\"Clear all interactive points and encodings.\"\"\"\n",
    "        self.click_points.clear()\n",
    "        self.click_scatter.setData([], [])\n",
    "        self.click_encodings.clear()\n",
    "\n",
    "    def eventFilter(self, source, event):\n",
    "        \"\"\"Handle mouse events for the plot.\"\"\"\n",
    "        if source == self.graph_widget.scene():\n",
    "            if event.type() == QtCore.QEvent.GraphicsSceneMousePress:\n",
    "                if event.button() == QtCore.Qt.LeftButton:\n",
    "                    self.left_button_pressed = True\n",
    "                    self.last_mouse_pos = event.scenePos()\n",
    "                    self.add_point_at(event.scenePos())\n",
    "                    self.timer.start()\n",
    "                    return True\n",
    "                elif event.button() == QtCore.Qt.MiddleButton:\n",
    "                    self.middle_button_pressed = True\n",
    "                    self.last_mouse_pos = event.scenePos()\n",
    "                    return True\n",
    "                elif event.button() == QtCore.Qt.RightButton:\n",
    "                    self.right_button_pressed = True\n",
    "                    self.last_mouse_pos = event.scenePos()\n",
    "                    return True\n",
    "            elif event.type() == QtCore.QEvent.GraphicsSceneMouseRelease:\n",
    "                if event.button() == QtCore.Qt.LeftButton:\n",
    "                    self.left_button_pressed = False\n",
    "                    self.timer.stop()\n",
    "                    return True\n",
    "                elif event.button() == QtCore.Qt.MiddleButton:\n",
    "                    self.middle_button_pressed = False\n",
    "                    return True\n",
    "                elif event.button() == QtCore.Qt.RightButton:\n",
    "                    self.right_button_pressed = False\n",
    "                    return True\n",
    "            elif event.type() == QtCore.QEvent.GraphicsSceneMouseMove:\n",
    "                if self.left_button_pressed:\n",
    "                    self.last_mouse_pos = event.scenePos()\n",
    "                    return True\n",
    "                elif self.middle_button_pressed:\n",
    "                    if self.last_mouse_pos is not None:\n",
    "                        diff = event.scenePos() - self.last_mouse_pos\n",
    "                        vb = self.graph_widget.plotItem.vb\n",
    "                        vb.translateBy(x=-diff.x(), y=diff.y())\n",
    "                        self.last_mouse_pos = event.scenePos()\n",
    "                    return True\n",
    "                elif self.right_button_pressed:\n",
    "                    # Remove points near mouse position on drag\n",
    "                    vb = self.graph_widget.plotItem.vb\n",
    "                    mouse_point = vb.mapSceneToView(event.scenePos())\n",
    "                    self.removeInteractiveEncodingNear(mouse_point)\n",
    "                    self.last_mouse_pos = event.scenePos()\n",
    "                    return True\n",
    "        return super().eventFilter(source, event)\n",
    "\n",
    "    def keyPressEvent(self, event):\n",
    "        \"\"\"Clear points/encodings on 'C' key.\"\"\"\n",
    "        if event.key() == QtCore.Qt.Key_C:\n",
    "            self.clearInteractiveEncodings()\n",
    "        super().keyPressEvent(event)\n",
    "\n",
    "    def add_point_at(self, scene_pos):\n",
    "        \"\"\"Add a scatter point and encoding at mouse position.\"\"\"\n",
    "        if self.graph_widget.sceneBoundingRect().contains(scene_pos):\n",
    "            vb = self.graph_widget.plotItem.vb\n",
    "            mouse_point = vb.mapSceneToView(scene_pos)\n",
    "            self.addInteractiveEncoding(mouse_point)\n",
    "            x, y = mouse_point.x(), mouse_point.y()\n",
    "            self.click_points.append({'pos': (x, y)})\n",
    "            self.click_scatter.setData(\n",
    "                [p['pos'][0] for p in self.click_points],\n",
    "                [p['pos'][1] for p in self.click_points]\n",
    "            )\n",
    "\n",
    "    def continuous_add_point(self):\n",
    "        \"\"\"Timer-driven continuous interactive addition while dragging.\"\"\"\n",
    "        if self.left_button_pressed and self.last_mouse_pos is not None:\n",
    "            self.add_point_at(self.last_mouse_pos)\n",
    "            \n",
    "    def update_play_point(self):\n",
    "        \n",
    "        global inter_audio_encoding_index\n",
    "        \n",
    "        if inter_audio_encoding_index >= len(self.click_points):\n",
    "            return\n",
    "        \n",
    "        play_p = self.click_points[inter_audio_encoding_index]\n",
    "\n",
    "        self.play_scatter.setData( [ play_p['pos'][0] ], [ play_p['pos'][1] ] )"
   ]
  },
  {
   "cell_type": "markdown",
   "id": "53939bdf-d469-40d9-910b-a3c3e9b1ded6",
   "metadata": {},
   "source": [
    "## Run Application"
   ]
  },
  {
   "cell_type": "code",
   "execution_count": 22,
   "id": "a4120ee8-2ef2-4ffd-a670-c8155a0f9538",
   "metadata": {},
   "outputs": [
    {
     "name": "stdout",
     "output_type": "stream",
     "text": [
      "Streaming audio with FIFO queue... press Ctrl+C to stop.\n"
     ]
    },
    {
     "name": "stderr",
     "output_type": "stream",
     "text": [
      "[W NNPACK.cpp:64] Could not initialize NNPACK! Reason: Unsupported hardware.\n"
     ]
    },
    {
     "ename": "SystemExit",
     "evalue": "0",
     "output_type": "error",
     "traceback": [
      "An exception has occurred, use %tb to see the full traceback.\n",
      "\u001b[0;31mSystemExit\u001b[0m\u001b[0;31m:\u001b[0m 0\n"
     ]
    },
    {
     "name": "stderr",
     "output_type": "stream",
     "text": [
      "/Users/dbisig/opt/anaconda3/envs/premiere_test4/lib/python3.10/site-packages/IPython/core/interactiveshell.py:3587: UserWarning: To exit: use 'exit', 'quit', or Ctrl-D.\n",
      "  warn(\"To exit: use 'exit', 'quit', or Ctrl-D.\", stacklevel=1)\n"
     ]
    }
   ],
   "source": [
    "# Run audio stream in separate thread for GUI/audio concurrency\n",
    "audio_thread = threading.Thread(target=run_audio_stream, daemon=True)\n",
    "audio_thread.start()\n",
    "app = QtWidgets.QApplication(sys.argv)\n",
    "main = ScatterPlotApp(Z_tsne, inter_audio_encodings)\n",
    "main.show()\n",
    "sys.exit(app.exec_())"
   ]
  },
  {
   "cell_type": "code",
   "execution_count": null,
   "id": "bcdb5a10-d6fa-4665-8d0d-117ccfb7c957",
   "metadata": {},
   "outputs": [],
   "source": []
  }
 ],
 "metadata": {
  "kernelspec": {
   "display_name": "Python 3 (ipykernel)",
   "language": "python",
   "name": "python3"
  },
  "language_info": {
   "codemirror_mode": {
    "name": "ipython",
    "version": 3
   },
   "file_extension": ".py",
   "mimetype": "text/x-python",
   "name": "python",
   "nbconvert_exporter": "python",
   "pygments_lexer": "ipython3",
   "version": "3.10.16"
  }
 },
 "nbformat": 4,
 "nbformat_minor": 5
}
